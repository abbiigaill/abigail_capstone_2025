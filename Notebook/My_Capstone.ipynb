{
 "cells": [
  {
   "cell_type": "code",
   "execution_count": 1,
   "id": "1aeb223d-ac73-4f85-b6bc-d7d2b2a769e0",
   "metadata": {},
   "outputs": [],
   "source": [
    "import pandas as pd\n",
    "import matplotlib.pyplot as plt\n",
    "import seaborn as sns\n",
    "import numpy as np"
   ]
  },
  {
   "cell_type": "code",
   "execution_count": null,
   "id": "02555f4c-ce3c-4d7c-9a0d-934e5db87eb8",
   "metadata": {},
   "outputs": [],
   "source": [
    "missing_person_data=pd.read_excel('../Data/Missing_Person_Report.xlsx')"
   ]
  },
  {
   "cell_type": "code",
   "execution_count": null,
   "id": "0021acb2-edbc-484b-bbe9-e6ea9d770eda",
   "metadata": {},
   "outputs": [],
   "source": [
    "missing_person_data"
   ]
  },
  {
   "cell_type": "code",
   "execution_count": null,
   "id": "47188bcd-a3c4-468f-b72e-ed9af856d313",
   "metadata": {},
   "outputs": [],
   "source": [
    "missing_person_data.columns"
   ]
  },
  {
   "cell_type": "code",
   "execution_count": 4,
   "id": "85c313f3-f73a-4dcc-b1cf-7fdbf9cac2b6",
   "metadata": {},
   "outputs": [
    {
     "ename": "NameError",
     "evalue": "name 'missing_person_data' is not defined",
     "output_type": "error",
     "traceback": [
      "\u001b[1;31m---------------------------------------------------------------------------\u001b[0m",
      "\u001b[1;31mNameError\u001b[0m                                 Traceback (most recent call last)",
      "Cell \u001b[1;32mIn[4], line 1\u001b[0m\n\u001b[1;32m----> 1\u001b[0m missing_person_data\u001b[38;5;241m.\u001b[39minfo\n",
      "\u001b[1;31mNameError\u001b[0m: name 'missing_person_data' is not defined"
     ]
    }
   ],
   "source": [
    "missing_person_data.info"
   ]
  },
  {
   "cell_type": "code",
   "execution_count": 3,
   "id": "087ee7aa-a7b4-44d4-8a36-011037aa7f47",
   "metadata": {},
   "outputs": [
    {
     "ename": "NameError",
     "evalue": "name 'missing_person_data' is not defined",
     "output_type": "error",
     "traceback": [
      "\u001b[1;31m---------------------------------------------------------------------------\u001b[0m",
      "\u001b[1;31mNameError\u001b[0m                                 Traceback (most recent call last)",
      "Cell \u001b[1;32mIn[3], line 1\u001b[0m\n\u001b[1;32m----> 1\u001b[0m missing_by_age\u001b[38;5;241m=\u001b[39mmissing_person_data[\u001b[38;5;124m'\u001b[39m\u001b[38;5;124mMissing Age\u001b[39m\u001b[38;5;124m'\u001b[39m]\u001b[38;5;241m.\u001b[39mvalue_counts()\n",
      "\u001b[1;31mNameError\u001b[0m: name 'missing_person_data' is not defined"
     ]
    }
   ],
   "source": [
    "missing_by_age=missing_person_data['Missing Age'].value_counts()"
   ]
  },
  {
   "cell_type": "code",
   "execution_count": null,
   "id": "020072b7-2e93-4a35-85c5-7429ce083523",
   "metadata": {},
   "outputs": [],
   "source": [
    "missing_person_data.rename(columns={\"DLC\": \"Date Last Contacted\", \"Legal Last Name\": \"Last Name\", \"Legal First Name\": \"First Name\",\n",
    "       \"Biological Sex\": \"Sex\"},  inplace=True)\n",
    "    "
   ]
  },
  {
   "cell_type": "code",
   "execution_count": null,
   "id": "d9254643-8f2d-4b81-8cd0-a1ed2c6d8a14",
   "metadata": {},
   "outputs": [],
   "source": [
    "missing_person_data"
   ]
  },
  {
   "cell_type": "code",
   "execution_count": null,
   "id": "d13a082c-1a80-480a-854f-a6fde597a447",
   "metadata": {},
   "outputs": [],
   "source": [
    "missing_person_data['Year']=missing_person_data['Date Last Contacted'].dt.year"
   ]
  },
  {
   "cell_type": "code",
   "execution_count": null,
   "id": "734e8768-c2bc-4225-8254-b2e6d6379313",
   "metadata": {},
   "outputs": [],
   "source": [
    "missing_person_data"
   ]
  },
  {
   "cell_type": "code",
   "execution_count": null,
   "id": "6dfb9624-6da4-4ca6-96bb-0837bd9a2012",
   "metadata": {},
   "outputs": [],
   "source": [
    "missing_person_data['Year']"
   ]
  },
  {
   "cell_type": "code",
   "execution_count": null,
   "id": "5773d7a5-d49c-4f18-a743-dbda98ba0b82",
   "metadata": {},
   "outputs": [],
   "source": [
    "missing_person_data['Last Name']=missing_person_data['Last Name'].str.lower()"
   ]
  },
  {
   "cell_type": "code",
   "execution_count": null,
   "id": "60725d83-f412-4844-96c9-3d884085f4a9",
   "metadata": {},
   "outputs": [],
   "source": [
    "missing_person_data['First Name']=missing_person_data['First Name'].str.lower()"
   ]
  },
  {
   "cell_type": "code",
   "execution_count": null,
   "id": "11ee4cdf-4b12-476f-b641-94da7981a132",
   "metadata": {},
   "outputs": [],
   "source": [
    "missing_person_data"
   ]
  },
  {
   "cell_type": "code",
   "execution_count": null,
   "id": "cadeb926-3884-4081-8f7c-e788f4c34fd5",
   "metadata": {},
   "outputs": [],
   "source": [
    "missing_person_data = missing_person_data.drop(columns=['Date Modified'])"
   ]
  },
  {
   "cell_type": "code",
   "execution_count": null,
   "id": "2f259f5c-95bf-4c4d-80d3-28b7935d52bf",
   "metadata": {},
   "outputs": [],
   "source": [
    "missing_person_data"
   ]
  },
  {
   "cell_type": "code",
   "execution_count": null,
   "id": "a5b87fb1-2500-459b-9ffc-952bbf694667",
   "metadata": {},
   "outputs": [],
   "source": [
    "## STATE COUNT "
   ]
  },
  {
   "cell_type": "code",
   "execution_count": null,
   "id": "f6bc754c-67cc-459c-b175-496d8e62ba36",
   "metadata": {},
   "outputs": [],
   "source": [
    "missing_person_data.groupby('State')['Case Number'].nunique().reset_index()\n"
   ]
  },
  {
   "cell_type": "code",
   "execution_count": null,
   "id": "7551bdc2-1e92-477a-9aa0-e60d98bf243d",
   "metadata": {},
   "outputs": [],
   "source": [
    "## combining first and last name in one column \n",
    "missing_person_data['First Name/ Last Name']=missing_person_data[\"First Name\"] + \" \" + missing_person_data[\"Last Name\"]"
   ]
  },
  {
   "cell_type": "code",
   "execution_count": null,
   "id": "2d726930-03a3-4792-9a2b-315ae2fe3700",
   "metadata": {},
   "outputs": [],
   "source": [
    "missing_person_data.drop(columns=[\"First Name\", \"Last Name\"], inplace=True)"
   ]
  },
  {
   "cell_type": "code",
   "execution_count": null,
   "id": "dbc41de8-cc76-4ae1-959c-88f4486c226e",
   "metadata": {},
   "outputs": [],
   "source": [
    "missing_person_data"
   ]
  },
  {
   "cell_type": "code",
   "execution_count": null,
   "id": "952b29e5-725f-4101-9701-207366c4cc3c",
   "metadata": {},
   "outputs": [],
   "source": [
    "missing_person_data.groupby('Case Number').nunique().reset_index()\n"
   ]
  },
  {
   "cell_type": "code",
   "execution_count": null,
   "id": "358b71b9-89d4-4f5d-96e2-e3ae3064c32e",
   "metadata": {},
   "outputs": [],
   "source": [
    "missing_person_data.groupby('First Name/ Last Name').nunique().reset_index()\n"
   ]
  },
  {
   "cell_type": "code",
   "execution_count": null,
   "id": "aa2a571d-b6d9-45a6-a4e3-78bb4022797c",
   "metadata": {},
   "outputs": [],
   "source": [
    "missing_person_data[missing_person_data[\"First Name/ Last Name\"].isna()]"
   ]
  },
  {
   "cell_type": "code",
   "execution_count": null,
   "id": "942001f9-3a67-4491-a5a3-84725f3dd473",
   "metadata": {},
   "outputs": [],
   "source": [
    "missing_person_data.groupby('Case Number')['First Name/ Last Name'].nunique().reset_index()\n"
   ]
  },
  {
   "cell_type": "code",
   "execution_count": null,
   "id": "36a6e736-1287-4456-b905-df87419e487e",
   "metadata": {},
   "outputs": [],
   "source": [
    "top_5_cities_usa = missing_person_data['City'].value_counts().head(5)"
   ]
  },
  {
   "cell_type": "code",
   "execution_count": null,
   "id": "0b82b43b-72af-4b55-ae1c-988ce2d83b13",
   "metadata": {},
   "outputs": [],
   "source": [
    "top_5_cities_usa"
   ]
  },
  {
   "cell_type": "code",
   "execution_count": null,
   "id": "7c350d08-cf48-4657-accc-99f1d915b987",
   "metadata": {},
   "outputs": [],
   "source": [
    "top_5_states = missing_person_data['State'].value_counts().head(5)"
   ]
  },
  {
   "cell_type": "code",
   "execution_count": null,
   "id": "442b9ccf-4bb1-4edc-88f8-e96637f9be52",
   "metadata": {},
   "outputs": [],
   "source": [
    "top_5_states"
   ]
  },
  {
   "cell_type": "code",
   "execution_count": null,
   "id": "188540d4-54c8-4dbc-918f-f41eebf9ea10",
   "metadata": {},
   "outputs": [],
   "source": [
    "population=pd.read_csv('../Data/state_population_by_year.csv')"
   ]
  },
  {
   "cell_type": "code",
   "execution_count": null,
   "id": "73f6a926-ba7a-4917-99b2-c3ecadda7ac4",
   "metadata": {},
   "outputs": [],
   "source": [
    "population"
   ]
  },
  {
   "cell_type": "code",
   "execution_count": null,
   "id": "86814672-e4f5-407d-ac71-340ea81ba019",
   "metadata": {},
   "outputs": [],
   "source": [
    "population = population.rename(columns = { 'AK' : 'State', '1950': 'Year', '135000' : 'population'})\n"
   ]
  },
  {
   "cell_type": "code",
   "execution_count": null,
   "id": "a6260321-eebe-42a5-88ed-33c6e819163e",
   "metadata": {},
   "outputs": [],
   "source": [
    "population\n"
   ]
  },
  {
   "cell_type": "code",
   "execution_count": null,
   "id": "c1362893-2548-409c-b6e8-a15201fb15fb",
   "metadata": {},
   "outputs": [],
   "source": [
    "population['Year'] = pd.to_numeric(population['Year'], errors='coerce')\n"
   ]
  },
  {
   "cell_type": "code",
   "execution_count": null,
   "id": "f7829b1d-161b-478e-9c0c-3faae4d7a4fb",
   "metadata": {},
   "outputs": [],
   "source": [
    "population=population[population['Year'] >= 2015]"
   ]
  },
  {
   "cell_type": "code",
   "execution_count": null,
   "id": "49cba1d0-e5e7-417e-806d-5ac6a40bf5ae",
   "metadata": {},
   "outputs": [],
   "source": [
    "population['Year'].value_counts()"
   ]
  },
  {
   "cell_type": "code",
   "execution_count": null,
   "id": "59b05234-025d-462c-8869-c21851cf9125",
   "metadata": {},
   "outputs": [],
   "source": [
    "merged_df = pd.merge(missing_person_data, population, on=['State', 'Year'])"
   ]
  },
  {
   "cell_type": "code",
   "execution_count": null,
   "id": "6c081a60-2cf3-4b6c-9de5-38d665a111b3",
   "metadata": {},
   "outputs": [],
   "source": [
    "merged_df"
   ]
  },
  {
   "cell_type": "code",
   "execution_count": null,
   "id": "7dc8ed2d-bb5b-4d54-9f89-0a76f08099df",
   "metadata": {},
   "outputs": [],
   "source": [
    "missing_person_data['Race / Ethnicity'].value_counts()"
   ]
  },
  {
   "cell_type": "code",
   "execution_count": null,
   "id": "1e65b3e9-3d87-4966-b9ac-939857a444df",
   "metadata": {},
   "outputs": [],
   "source": [
    "to_other = {'Hispanic / Latino, American Indian / Alaska Native, Other',               \n",
    "'Uncertain, White / Caucasian, Black / African American', \n",
    "'Hawaiian / Pacific Islander, Other',                                         \n",
    "'White / Caucasian, Hispanic / Latino, American Indian / Alaska Native',       \n",
    "'Black / African American, White / Caucasian, Other'}"
   ]
  },
  {
   "cell_type": "code",
   "execution_count": null,
   "id": "784683af-294d-4da4-88e2-605e88045b9b",
   "metadata": {},
   "outputs": [],
   "source": [
    "merged_df['Race / Ethnicity'] = merged_df['Race / Ethnicity'].apply(lambda r: 'Other' if r in to_other else r)"
   ]
  },
  {
   "cell_type": "code",
   "execution_count": null,
   "id": "55d5dfef-6ebf-4f62-a0ff-a6c2d65466cd",
   "metadata": {},
   "outputs": [],
   "source": [
    "merged_df"
   ]
  },
  {
   "cell_type": "code",
   "execution_count": null,
   "id": "98711300-e6ce-41a1-ae99-f1cc01bb5d21",
   "metadata": {},
   "outputs": [],
   "source": [
    "merged_df = merged_df.rename(columns={'Race / Ethnicity': 'Race'})"
   ]
  },
  {
   "cell_type": "code",
   "execution_count": null,
   "id": "ffb8a4d2-ff5b-40bb-abc3-75ecdba711f6",
   "metadata": {},
   "outputs": [],
   "source": [
    "def simplify_race(Race):\n",
    "    Race= Race.lower()  \n",
    "    if 'white' in Race:\n",
    "        return 'White'\n",
    "    elif  'hispanic' in Race or 'latino' in Race:\n",
    "        return 'Hispanic'\n",
    "    elif 'black' in Race or 'african' in Race:\n",
    "        return 'Black'\n",
    "    elif 'asian' in Race or 'pacific' in Race:\n",
    "        return 'Asian / Pacific Islander'\n",
    "    elif 'american indian' in Race or 'alaska' in Race or 'native' in Race:\n",
    "        return 'Native American'\n",
    "    else:\n",
    "        return 'Other'"
   ]
  },
  {
   "cell_type": "code",
   "execution_count": null,
   "id": "9ead130f-b649-43f7-9a5d-0ad006bb600a",
   "metadata": {},
   "outputs": [],
   "source": [
    "merged_df['Race']= merged_df['Race'].apply(simplify_race)"
   ]
  },
  {
   "cell_type": "code",
   "execution_count": null,
   "id": "cd6a0321-2da1-4549-8a38-c22ffa6dd5aa",
   "metadata": {},
   "outputs": [],
   "source": [
    "merged_df"
   ]
  },
  {
   "cell_type": "code",
   "execution_count": null,
   "id": "15eaffbf-d87b-4da6-ab2a-edeb8d71b466",
   "metadata": {},
   "outputs": [],
   "source": [
    "missing_person_count = merged_df.groupby('State').size().reset_index(name='Case Number')"
   ]
  },
  {
   "cell_type": "code",
   "execution_count": null,
   "id": "8c89dfa9-a5ee-48b0-8acf-959a2f7a5e97",
   "metadata": {},
   "outputs": [],
   "source": [
    "merged_df['missing_person_count'] = merged_df['State'].map(merged_df['State'].value_counts())"
   ]
  },
  {
   "cell_type": "code",
   "execution_count": null,
   "id": "4db03590-aa0c-478d-8a5e-f0c0027d9ae4",
   "metadata": {},
   "outputs": [],
   "source": [
    "merged_df"
   ]
  },
  {
   "cell_type": "code",
   "execution_count": null,
   "id": "832fa828-e94f-4741-97ff-af656f66083d",
   "metadata": {},
   "outputs": [],
   "source": [
    "merged_df.to_csv('My_Capstone.csv', index=False)"
   ]
  },
  {
   "cell_type": "code",
   "execution_count": null,
   "id": "6979028c-897c-4df9-b4ae-17940bb741b2",
   "metadata": {},
   "outputs": [],
   "source": []
  },
  {
   "cell_type": "code",
   "execution_count": null,
   "id": "9555f213-b3f3-42fb-b571-43d48e3fcdc3",
   "metadata": {},
   "outputs": [],
   "source": [
    "## YEAR  "
   ]
  }
 ],
 "metadata": {
  "kernelspec": {
   "display_name": "Python [conda env:base] *",
   "language": "python",
   "name": "conda-base-py"
  },
  "language_info": {
   "codemirror_mode": {
    "name": "ipython",
    "version": 3
   },
   "file_extension": ".py",
   "mimetype": "text/x-python",
   "name": "python",
   "nbconvert_exporter": "python",
   "pygments_lexer": "ipython3",
   "version": "3.13.5"
  }
 },
 "nbformat": 4,
 "nbformat_minor": 5
}
